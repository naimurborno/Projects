{
  "nbformat": 4,
  "nbformat_minor": 0,
  "metadata": {
    "colab": {
      "provenance": [],
      "gpuType": "T4",
      "authorship_tag": "ABX9TyP7TLs9oO47NIfjSic0k0q8",
      "include_colab_link": true
    },
    "kernelspec": {
      "name": "python3",
      "display_name": "Python 3"
    },
    "language_info": {
      "name": "python"
    },
    "accelerator": "GPU"
  },
  "cells": [
    {
      "cell_type": "markdown",
      "metadata": {
        "id": "view-in-github",
        "colab_type": "text"
      },
      "source": [
        "<a href=\"https://colab.research.google.com/github/naimurborno/Projects/blob/main/resnet%20model%20implementation%20without%20identity%20resnet%20block%20with%20convolution.ipynb\" target=\"_parent\"><img src=\"https://colab.research.google.com/assets/colab-badge.svg\" alt=\"Open In Colab\"/></a>"
      ]
    },
    {
      "cell_type": "code",
      "execution_count": 28,
      "metadata": {
        "id": "O2c_hVXYSQuK"
      },
      "outputs": [],
      "source": [
        "import tensorflow as tf\n",
        "import pandas as pd\n",
        "import matplotlib.pyplot as plt\n",
        "import numpy as np\n",
        "import seaborn as sns\n",
        "from tensorflow import keras"
      ]
    },
    {
      "cell_type": "code",
      "source": [
        "class Identity_block(tf.keras.Model):\n",
        "  def __init__(self,filters,kernel_size):\n",
        "    super(Identity_block,self).__init__(name='')\n",
        "    self.conv1=tf.keras.layers.Conv2D(filters,kernel_size,padding='same')\n",
        "    self.bn1=tf.keras.layers.BatchNormalization()\n",
        "    self.conv2=tf.keras.layers.Conv2D(filters,kernel_size,padding='same')\n",
        "    self.bn2=tf.keras.layers.BatchNormalization()\n",
        "    self.act=tf.keras.layers.Activation('relu')\n",
        "    self.add=tf.keras.layers.Add()\n",
        "  def call(self,input_tensor):\n",
        "    x=self.conv1(input_tensor)\n",
        "    x=self.bn1(x)\n",
        "    x=self.act(x)\n",
        "    x=self.conv2(x)\n",
        "    x=self.bn2(x)\n",
        "    x=self.add([x,input_tensor])\n",
        "    x=self.act(x)\n",
        "    return x\n"
      ],
      "metadata": {
        "id": "6VhipSZ5SfQk"
      },
      "execution_count": 57,
      "outputs": []
    },
    {
      "cell_type": "code",
      "source": [
        "class Resnet(tf.keras.Model):\n",
        "  def __init__(self,num_classes):\n",
        "    super(Resnet,self).__init__()\n",
        "    self.conv=tf.keras.layers.Conv2D(64,7,padding='same')\n",
        "    self.norm=tf.keras.layers.BatchNormalization()\n",
        "    self.act=tf.keras.layers.Activation('relu')\n",
        "    self.pool=tf.keras.layers.MaxPool2D((3,3))\n",
        "    self.id1=Identity_block(64,3)\n",
        "    self.id2=Identity_block(64,3)\n",
        "    self.avg=tf.keras.layers.GlobalAveragePooling2D()\n",
        "    self.classifier=tf.keras.layers.Dense(num_classes,activation='softmax')\n",
        "  def call(self,inputs):\n",
        "    x=self.conv(inputs)\n",
        "    x=self.norm(x)\n",
        "    x=self.act(x)\n",
        "    x=self.pool(x)\n",
        "    x=self.id1(x)\n",
        "    x=self.id2(x)\n",
        "    x=self.avg(x)\n",
        "    x=self.classifier(x)\n",
        "    return x\n"
      ],
      "metadata": {
        "id": "TdOKsQHgUKBL"
      },
      "execution_count": 58,
      "outputs": []
    },
    {
      "cell_type": "code",
      "source": [
        "model=Resnet(10)"
      ],
      "metadata": {
        "id": "FJqKuC6fdjGi"
      },
      "execution_count": 59,
      "outputs": []
    },
    {
      "cell_type": "code",
      "source": [
        "model.compile(\n",
        "    optimizer='adam',\n",
        "    loss='sparse_categorical_crossentropy',\n",
        "    metrics=['accuracy']\n",
        ")"
      ],
      "metadata": {
        "id": "2-7TimIsdpHO"
      },
      "execution_count": 60,
      "outputs": []
    },
    {
      "cell_type": "code",
      "source": [
        "import tensorflow_datasets as tfds\n",
        "def preprocess(features):\n",
        "    return tf.cast(features['image'], tf.float32) / 255., features['label']\n",
        "dataset = tfds.load('mnist', split=tfds.Split.TRAIN, data_dir='./data')\n",
        "dataset = dataset.map(preprocess).batch(32)\n"
      ],
      "metadata": {
        "id": "-PjCFrKPeUqs"
      },
      "execution_count": 33,
      "outputs": []
    },
    {
      "cell_type": "code",
      "source": [
        "model.fit(dataset,epochs=2)"
      ],
      "metadata": {
        "colab": {
          "base_uri": "https://localhost:8080/"
        },
        "id": "lrPyoJQlelwO",
        "outputId": "36537c0c-8c8d-469d-9539-20a0b7302e79"
      },
      "execution_count": 62,
      "outputs": [
        {
          "output_type": "stream",
          "name": "stdout",
          "text": [
            "Epoch 1/2\n",
            "1875/1875 [==============================] - 13s 7ms/step - loss: 0.0670 - accuracy: 0.9805\n",
            "Epoch 2/2\n",
            "1875/1875 [==============================] - 14s 7ms/step - loss: 0.0411 - accuracy: 0.9880\n"
          ]
        },
        {
          "output_type": "execute_result",
          "data": {
            "text/plain": [
              "<keras.src.callbacks.History at 0x7fe61a3c5b10>"
            ]
          },
          "metadata": {},
          "execution_count": 62
        }
      ]
    },
    {
      "cell_type": "code",
      "source": [],
      "metadata": {
        "id": "S6vmcN7afZrW"
      },
      "execution_count": 62,
      "outputs": []
    }
  ]
}